{
 "cells": [
  {
   "cell_type": "code",
   "execution_count": 855,
   "metadata": {},
   "outputs": [],
   "source": [
    "import sys\n",
    "import math\n",
    "import warnings\n",
    "import numpy as np\n",
    "import matplotlib.pylab as plt\n",
    "\n",
    "from Learning import Learning\n",
    "from Drawing import Plotter\n",
    "from Utils import Utils\n",
    "from Utils import ArgsParser\n",
    "from Environment import GridWorld\n",
    "from MDPStats import MDPStats\n",
    "from main import discoverOptions\n",
    "from QLearning import QLearning\n",
    "from Drawing import Plotter\n",
    "from option import Option\n",
    "from PR_options import discover_PRSR,findNoWallState,findOptionStartEnd,discover_option_policy,add_premitive_actions\n",
    "from LearningOption import IntraOptionQLearningAgent"
   ]
  },
  {
   "cell_type": "code",
   "execution_count": 11,
   "metadata": {},
   "outputs": [
    {
     "name": "stdout",
     "output_type": "stream",
     "text": [
      "The autoreload extension is already loaded. To reload it, use:\n",
      "  %reload_ext autoreload\n"
     ]
    }
   ],
   "source": [
    "%load_ext autoreload\n",
    "%autoreload 2"
   ]
  },
  {
   "cell_type": "code",
   "execution_count": 558,
   "metadata": {},
   "outputs": [],
   "source": [
    "env_path='/Users/shijiegu/Documents/Second-Year/Bandit_RL/Hiearchical/Project/options-master/mdps/4Rooms.mdp'\n",
    "PR_ave,SR_ave,indeces=discover_PRSR(env_path,gamma_learn=0.9,gamma_PR=0.9,simulate_num=200)"
   ]
  },
  {
   "cell_type": "code",
   "execution_count": 537,
   "metadata": {
    "scrolled": true
   },
   "outputs": [],
   "source": [
    "starts=[(3,9),(3,3),(9,3),(9,9)]\n",
    "starts_subgoals_x_y,SR_random=findOptionStartEnd(env_path,PR_ave,8,starts)"
   ]
  },
  {
   "cell_type": "code",
   "execution_count": 538,
   "metadata": {},
   "outputs": [
    {
     "data": {
      "text/plain": [
       "[(48, 46, 3, 9, 3, 7),\n",
       " (48, 47, 3, 9, 3, 8),\n",
       " (42, 44, 3, 3, 3, 5),\n",
       " (42, 67, 3, 3, 5, 2),\n",
       " (120, 93, 9, 3, 7, 2),\n",
       " (120, 135, 9, 3, 10, 5),\n",
       " (126, 113, 9, 9, 8, 9),\n",
       " (126, 137, 9, 9, 10, 7)]"
      ]
     },
     "execution_count": 538,
     "metadata": {},
     "output_type": "execute_result"
    }
   ],
   "source": [
    "starts_subgoals_x_y"
   ]
  },
  {
   "cell_type": "markdown",
   "metadata": {},
   "source": [
    "### Visualize PR, SR and potential subgoals if agent start at a paticular state"
   ]
  },
  {
   "cell_type": "code",
   "execution_count": 619,
   "metadata": {},
   "outputs": [
    {
     "data": {
      "image/png": "[encoded data removed]",
      "text/plain": [
       "<Figure size 1080x576 with 4 Axes>"
      ]
     },
     "metadata": {
      "needs_background": "light"
     },
     "output_type": "display_data"
    }
   ],
   "source": [
    "# Visualize PR_ave vs PR\n",
    "from PR_options import visualize_vec\n",
    "from mpl_toolkits.axes_grid1 import make_axes_locatable\n",
    "\n",
    "env_plot = GridWorld(path = env_path, useNegativeRewards=False)\n",
    "indeces=findNoWallState(env_plot)\n",
    "\n",
    "x=3\n",
    "y=3\n",
    "start_idx=env_plot._getStateIndex(x,y)\n",
    "SR_random_start = visualize_vec(env_plot,SR_random[np.argwhere(indeces==start_idx)[0][0],:])\n",
    "\n",
    "fig,axe=plt.subplots(1,4,figsize=(15,8),sharex=True, sharey=True)\n",
    "axe[0].imshow(-env.matrixMDP)\n",
    "axe[0].set_title('4-Room environment',fontsize=15)\n",
    "axe[0].set_xticks([0,4,8,12])\n",
    "axe[0].set_yticks([0,4,8,12])\n",
    "#divider = make_axes_locatable(axe[0])\n",
    "\n",
    "PCM=axe[1].imshow(0.1*env.matrixMDP+PR_ave)\n",
    "axe[1].set_title('$E_{T_{MDP},R,\\pi(R)}[PR(\\cdot|R)]$',fontsize=20)\n",
    "divider = make_axes_locatable(axe[1])\n",
    "#cax = divider.append_axes(\"right\", size=\"5%\", pad=0.05)\n",
    "#plt.colorbar(PCM,cax=cax)\n",
    "\n",
    "PCM=axe[2].imshow(0.1*env.matrixMDP+SR_random_start)\n",
    "axe[2].plot(y,x,lw=0, marker='s',color='red',fillstyle='none',markersize=13)\n",
    "axe[2].set_title('$SR(\\cdot|{(3,3)})$',fontsize=20)\n",
    "divider = make_axes_locatable(axe[2])\n",
    "#cax = divider.append_axes(\"right\", size=\"5%\", pad=0.05)\n",
    "#plt.colorbar(PCM,cax=cax)\n",
    "\n",
    "PCM=axe[3].imshow(0.1*env.matrixMDP+PR_ave*SR_random_start)\n",
    "axe[3].plot(y,x,lw=0, marker='s',color='red',fillstyle='none',markersize=13)\n",
    "axe[3].set_title('$E[PR(\\cdot|R)]*SR()$',fontsize=20)\n",
    "\n",
    "divider = make_axes_locatable(axe[3])\n",
    "#cax = divider.append_axes(\"right\", size=\"5%\", pad=0.05)\n",
    "#plt.colorbar(PCM,cax=cax)"
   ]
  },
  {
   "cell_type": "code",
   "execution_count": 539,
   "metadata": {
    "scrolled": true
   },
   "outputs": [
    {
     "name": "stdout",
     "output_type": "stream",
     "text": [
      "104\n",
      "104\n"
     ]
    },
    {
     "name": "stderr",
     "output_type": "stream",
     "text": [
      "/Users/shijiegu/Documents/Second-Year/Bandit_RL/Hiearchical/Project/options-master/PR_options.py:164: MatplotlibDeprecationWarning: Adding an axes using the same arguments as a previous axes currently reuses the earlier instance.  In a future version, a new instance will always be created and returned.  Meanwhile, this warning can be suppressed, and the future behavior ensured, by passing a unique label to each axes instance.\n",
      "  plt.imshow(env1.matrixMDP+Pn)\n",
      "/Users/shijiegu/Documents/Second-Year/Bandit_RL/Hiearchical/Project/options-master/PR_options.py:168: MatplotlibDeprecationWarning: Adding an axes using the same arguments as a previous axes currently reuses the earlier instance.  In a future version, a new instance will always be created and returned.  Meanwhile, this warning can be suppressed, and the future behavior ensured, by passing a unique label to each axes instance.\n",
      "  plt.savefig(figpath+str(o_ind)+'.png')\n",
      "/Users/shijiegu/Documents/Second-Year/Bandit_RL/Hiearchical/Project/options-master/PR_options.py:171: MatplotlibDeprecationWarning: Adding an axes using the same arguments as a previous axes currently reuses the earlier instance.  In a future version, a new instance will always be created and returned.  Meanwhile, this warning can be suppressed, and the future behavior ensured, by passing a unique label to each axes instance.\n",
      "  \n",
      "/Users/shijiegu/Documents/Second-Year/Bandit_RL/Hiearchical/Project/options-master/PR_options.py:174: MatplotlibDeprecationWarning: Adding an axes using the same arguments as a previous axes currently reuses the earlier instance.  In a future version, a new instance will always be created and returned.  Meanwhile, this warning can be suppressed, and the future behavior ensured, by passing a unique label to each axes instance.\n",
      "  \n",
      "/Users/shijiegu/Documents/Second-Year/Bandit_RL/Hiearchical/Project/options-master/PR_options.py:164: MatplotlibDeprecationWarning: Adding an axes using the same arguments as a previous axes currently reuses the earlier instance.  In a future version, a new instance will always be created and returned.  Meanwhile, this warning can be suppressed, and the future behavior ensured, by passing a unique label to each axes instance.\n",
      "  plt.imshow(env1.matrixMDP+Pn)\n"
     ]
    },
    {
     "name": "stdout",
     "output_type": "stream",
     "text": [
      "104\n",
      "104\n"
     ]
    },
    {
     "name": "stderr",
     "output_type": "stream",
     "text": [
      "/Users/shijiegu/Documents/Second-Year/Bandit_RL/Hiearchical/Project/options-master/PR_options.py:168: MatplotlibDeprecationWarning: Adding an axes using the same arguments as a previous axes currently reuses the earlier instance.  In a future version, a new instance will always be created and returned.  Meanwhile, this warning can be suppressed, and the future behavior ensured, by passing a unique label to each axes instance.\n",
      "  plt.savefig(figpath+str(o_ind)+'.png')\n",
      "/Users/shijiegu/Documents/Second-Year/Bandit_RL/Hiearchical/Project/options-master/PR_options.py:171: MatplotlibDeprecationWarning: Adding an axes using the same arguments as a previous axes currently reuses the earlier instance.  In a future version, a new instance will always be created and returned.  Meanwhile, this warning can be suppressed, and the future behavior ensured, by passing a unique label to each axes instance.\n",
      "  \n",
      "/Users/shijiegu/Documents/Second-Year/Bandit_RL/Hiearchical/Project/options-master/PR_options.py:174: MatplotlibDeprecationWarning: Adding an axes using the same arguments as a previous axes currently reuses the earlier instance.  In a future version, a new instance will always be created and returned.  Meanwhile, this warning can be suppressed, and the future behavior ensured, by passing a unique label to each axes instance.\n",
      "  \n",
      "/Users/shijiegu/Documents/Second-Year/Bandit_RL/Hiearchical/Project/options-master/PR_options.py:164: MatplotlibDeprecationWarning: Adding an axes using the same arguments as a previous axes currently reuses the earlier instance.  In a future version, a new instance will always be created and returned.  Meanwhile, this warning can be suppressed, and the future behavior ensured, by passing a unique label to each axes instance.\n",
      "  plt.imshow(env1.matrixMDP+Pn)\n",
      "/Users/shijiegu/Documents/Second-Year/Bandit_RL/Hiearchical/Project/options-master/PR_options.py:168: MatplotlibDeprecationWarning: Adding an axes using the same arguments as a previous axes currently reuses the earlier instance.  In a future version, a new instance will always be created and returned.  Meanwhile, this warning can be suppressed, and the future behavior ensured, by passing a unique label to each axes instance.\n",
      "  plt.savefig(figpath+str(o_ind)+'.png')\n",
      "/Users/shijiegu/Documents/Second-Year/Bandit_RL/Hiearchical/Project/options-master/PR_options.py:171: MatplotlibDeprecationWarning: Adding an axes using the same arguments as a previous axes currently reuses the earlier instance.  In a future version, a new instance will always be created and returned.  Meanwhile, this warning can be suppressed, and the future behavior ensured, by passing a unique label to each axes instance.\n",
      "  \n",
      "/Users/shijiegu/Documents/Second-Year/Bandit_RL/Hiearchical/Project/options-master/PR_options.py:174: MatplotlibDeprecationWarning: Adding an axes using the same arguments as a previous axes currently reuses the earlier instance.  In a future version, a new instance will always be created and returned.  Meanwhile, this warning can be suppressed, and the future behavior ensured, by passing a unique label to each axes instance.\n",
      "  \n"
     ]
    },
    {
     "name": "stdout",
     "output_type": "stream",
     "text": [
      "104\n",
      "104\n"
     ]
    },
    {
     "name": "stderr",
     "output_type": "stream",
     "text": [
      "/Users/shijiegu/Documents/Second-Year/Bandit_RL/Hiearchical/Project/options-master/PR_options.py:164: MatplotlibDeprecationWarning: Adding an axes using the same arguments as a previous axes currently reuses the earlier instance.  In a future version, a new instance will always be created and returned.  Meanwhile, this warning can be suppressed, and the future behavior ensured, by passing a unique label to each axes instance.\n",
      "  plt.imshow(env1.matrixMDP+Pn)\n",
      "/Users/shijiegu/Documents/Second-Year/Bandit_RL/Hiearchical/Project/options-master/PR_options.py:168: MatplotlibDeprecationWarning: Adding an axes using the same arguments as a previous axes currently reuses the earlier instance.  In a future version, a new instance will always be created and returned.  Meanwhile, this warning can be suppressed, and the future behavior ensured, by passing a unique label to each axes instance.\n",
      "  plt.savefig(figpath+str(o_ind)+'.png')\n",
      "/Users/shijiegu/Documents/Second-Year/Bandit_RL/Hiearchical/Project/options-master/PR_options.py:171: MatplotlibDeprecationWarning: Adding an axes using the same arguments as a previous axes currently reuses the earlier instance.  In a future version, a new instance will always be created and returned.  Meanwhile, this warning can be suppressed, and the future behavior ensured, by passing a unique label to each axes instance.\n",
      "  \n",
      "/Users/shijiegu/Documents/Second-Year/Bandit_RL/Hiearchical/Project/options-master/PR_options.py:174: MatplotlibDeprecationWarning: Adding an axes using the same arguments as a previous axes currently reuses the earlier instance.  In a future version, a new instance will always be created and returned.  Meanwhile, this warning can be suppressed, and the future behavior ensured, by passing a unique label to each axes instance.\n",
      "  \n",
      "/Users/shijiegu/Documents/Second-Year/Bandit_RL/Hiearchical/Project/options-master/PR_options.py:164: MatplotlibDeprecationWarning: Adding an axes using the same arguments as a previous axes currently reuses the earlier instance.  In a future version, a new instance will always be created and returned.  Meanwhile, this warning can be suppressed, and the future behavior ensured, by passing a unique label to each axes instance.\n",
      "  plt.imshow(env1.matrixMDP+Pn)\n",
      "/Users/shijiegu/Documents/Second-Year/Bandit_RL/Hiearchical/Project/options-master/PR_options.py:168: MatplotlibDeprecationWarning: Adding an axes using the same arguments as a previous axes currently reuses the earlier instance.  In a future version, a new instance will always be created and returned.  Meanwhile, this warning can be suppressed, and the future behavior ensured, by passing a unique label to each axes instance.\n",
      "  plt.savefig(figpath+str(o_ind)+'.png')\n",
      "/Users/shijiegu/Documents/Second-Year/Bandit_RL/Hiearchical/Project/options-master/PR_options.py:171: MatplotlibDeprecationWarning: Adding an axes using the same arguments as a previous axes currently reuses the earlier instance.  In a future version, a new instance will always be created and returned.  Meanwhile, this warning can be suppressed, and the future behavior ensured, by passing a unique label to each axes instance.\n",
      "  \n",
      "/Users/shijiegu/Documents/Second-Year/Bandit_RL/Hiearchical/Project/options-master/PR_options.py:174: MatplotlibDeprecationWarning: Adding an axes using the same arguments as a previous axes currently reuses the earlier instance.  In a future version, a new instance will always be created and returned.  Meanwhile, this warning can be suppressed, and the future behavior ensured, by passing a unique label to each axes instance.\n",
      "  \n",
      "/Users/shijiegu/Documents/Second-Year/Bandit_RL/Hiearchical/Project/options-master/PR_options.py:164: MatplotlibDeprecationWarning: Adding an axes using the same arguments as a previous axes currently reuses the earlier instance.  In a future version, a new instance will always be created and returned.  Meanwhile, this warning can be suppressed, and the future behavior ensured, by passing a unique label to each axes instance.\n",
      "  plt.imshow(env1.matrixMDP+Pn)\n"
     ]
    },
    {
     "name": "stdout",
     "output_type": "stream",
     "text": [
      "104\n",
      "104\n"
     ]
    },
    {
     "name": "stderr",
     "output_type": "stream",
     "text": [
      "/Users/shijiegu/Documents/Second-Year/Bandit_RL/Hiearchical/Project/options-master/PR_options.py:168: MatplotlibDeprecationWarning: Adding an axes using the same arguments as a previous axes currently reuses the earlier instance.  In a future version, a new instance will always be created and returned.  Meanwhile, this warning can be suppressed, and the future behavior ensured, by passing a unique label to each axes instance.\n",
      "  plt.savefig(figpath+str(o_ind)+'.png')\n",
      "/Users/shijiegu/Documents/Second-Year/Bandit_RL/Hiearchical/Project/options-master/PR_options.py:171: MatplotlibDeprecationWarning: Adding an axes using the same arguments as a previous axes currently reuses the earlier instance.  In a future version, a new instance will always be created and returned.  Meanwhile, this warning can be suppressed, and the future behavior ensured, by passing a unique label to each axes instance.\n",
      "  \n",
      "/Users/shijiegu/Documents/Second-Year/Bandit_RL/Hiearchical/Project/options-master/PR_options.py:174: MatplotlibDeprecationWarning: Adding an axes using the same arguments as a previous axes currently reuses the earlier instance.  In a future version, a new instance will always be created and returned.  Meanwhile, this warning can be suppressed, and the future behavior ensured, by passing a unique label to each axes instance.\n",
      "  \n",
      "/Users/shijiegu/Documents/Second-Year/Bandit_RL/Hiearchical/Project/options-master/PR_options.py:164: MatplotlibDeprecationWarning: Adding an axes using the same arguments as a previous axes currently reuses the earlier instance.  In a future version, a new instance will always be created and returned.  Meanwhile, this warning can be suppressed, and the future behavior ensured, by passing a unique label to each axes instance.\n",
      "  plt.imshow(env1.matrixMDP+Pn)\n",
      "/Users/shijiegu/Documents/Second-Year/Bandit_RL/Hiearchical/Project/options-master/PR_options.py:168: MatplotlibDeprecationWarning: Adding an axes using the same arguments as a previous axes currently reuses the earlier instance.  In a future version, a new instance will always be created and returned.  Meanwhile, this warning can be suppressed, and the future behavior ensured, by passing a unique label to each axes instance.\n",
      "  plt.savefig(figpath+str(o_ind)+'.png')\n",
      "/Users/shijiegu/Documents/Second-Year/Bandit_RL/Hiearchical/Project/options-master/PR_options.py:171: MatplotlibDeprecationWarning: Adding an axes using the same arguments as a previous axes currently reuses the earlier instance.  In a future version, a new instance will always be created and returned.  Meanwhile, this warning can be suppressed, and the future behavior ensured, by passing a unique label to each axes instance.\n",
      "  \n",
      "/Users/shijiegu/Documents/Second-Year/Bandit_RL/Hiearchical/Project/options-master/PR_options.py:174: MatplotlibDeprecationWarning: Adding an axes using the same arguments as a previous axes currently reuses the earlier instance.  In a future version, a new instance will always be created and returned.  Meanwhile, this warning can be suppressed, and the future behavior ensured, by passing a unique label to each axes instance.\n",
      "  \n"
     ]
    },
    {
     "data": {
      "image/png": "[encoded data removed]",
      "text/plain": [
       "<Figure size 432x288 with 4 Axes>"
      ]
     },
     "metadata": {
      "needs_background": "light"
     },
     "output_type": "display_data"
    }
   ],
   "source": [
    "figpath='/Users/shijiegu/Documents/Second-Year/Bandit_RL/Hiearchical/Project/options-master/option_generation2/option_generation'\n",
    "options=discover_option_policy(env_path,figpath,starts_subgoals_x_y,SR_random,PR_ave,SR_thresh=0.1)"
   ]
  },
  {
   "cell_type": "code",
   "execution_count": 540,
   "metadata": {},
   "outputs": [],
   "source": [
    "premi_options=add_premitive_actions(env_path)"
   ]
  },
  {
   "cell_type": "code",
   "execution_count": 541,
   "metadata": {},
   "outputs": [
    {
     "name": "stdout",
     "output_type": "stream",
     "text": [
      "12\n"
     ]
    }
   ],
   "source": [
    "options_full=premi_options+options\n",
    "print(len(options_full))"
   ]
  },
  {
   "cell_type": "code",
   "execution_count": 851,
   "metadata": {},
   "outputs": [],
   "source": [
    "def make_test_env(env_path):\n",
    "    env = GridWorld(path = env_path, useNegativeRewards=False)\n",
    "    \n",
    "    goal_idx=env._getStateIndex(1,11) #goal is upper right\n",
    "    start_idx=env._getStateIndex(11,1) #start is lower left\n",
    "    \n",
    "    env.defineRewardFunction(None)\n",
    "    env.defineGoalState(goal_idx)\n",
    "    env.defineStartState(start_idx)\n",
    "    return env\n",
    "\n",
    "def run_one_experiment(env_path,options,EpisodeLen=100,EpisodeNum=500,testNum=100):\n",
    "\n",
    "    agent=IntraOptionQLearningAgent(options)\n",
    "\n",
    "    n_steps_all=np.zeros((testNum,EpisodeNum))\n",
    "    cumulative_reward_all=np.zeros((testNum,EpisodeNum))\n",
    "\n",
    "    for e in range(EpisodeNum):\n",
    "        env=make_test_env(env_path)\n",
    "        _,_2=agent.run_episode(env,max_stepnum=EpisodeLen,start_new=False,learning_flag=True,verbose=False)\n",
    "        \n",
    "        for t in range(testNum):\n",
    "            env=make_test_env(env_path)\n",
    "            n_steps,cumulative_reward=agent.run_episode(env,max_stepnum=EpisodeLen,start_new=False,learning_flag=False,verbose=False)\n",
    "            n_steps_all[t,e]=n_steps\n",
    "            cumulative_reward_all[t,e]=cumulative_reward\n",
    "            \n",
    "    return cumulative_reward_all,n_steps_all\n",
    "\n",
    "def run_many_experiments(env_path,options,testNum,EpisodeNum,EpisodeLen):\n",
    "    reward_tally_alloption=0\n",
    "    for repeat in range(testNum):\n",
    "        reward_tally_alloption_,nstep_tally_alloption=run_one_experiment(env_path,options,EpisodeLen=EpisodeLen,EpisodeNum=EpisodeNum,testNum=testNum)\n",
    "        print('done repeat',repeat)\n",
    "        reward_tally_alloption+=reward_tally_alloption_\n",
    "    return reward_tally_alloption/testNum"
   ]
  },
  {
   "cell_type": "code",
   "execution_count": 848,
   "metadata": {},
   "outputs": [],
   "source": []
  },
  {
   "cell_type": "code",
   "execution_count": 542,
   "metadata": {
    "scrolled": true
   },
   "outputs": [
    {
     "name": "stdout",
     "output_type": "stream",
     "text": [
      "done repeat 0\n",
      "done repeat 1\n",
      "done repeat 2\n",
      "done repeat 3\n",
      "done repeat 4\n",
      "done repeat 5\n",
      "done repeat 6\n",
      "done repeat 7\n",
      "done repeat 8\n",
      "done repeat 9\n",
      "done repeat 10\n",
      "done repeat 11\n",
      "done repeat 12\n",
      "done repeat 13\n",
      "done repeat 14\n",
      "done repeat 15\n",
      "done repeat 16\n",
      "done repeat 17\n",
      "done repeat 18\n",
      "done repeat 19\n",
      "done\n",
      "done repeat 0\n",
      "done repeat 1\n",
      "done repeat 2\n",
      "done repeat 3\n",
      "done repeat 4\n",
      "done repeat 5\n",
      "done repeat 6\n",
      "done repeat 7\n",
      "done repeat 8\n",
      "done repeat 9\n",
      "done repeat 10\n",
      "done repeat 11\n",
      "done repeat 12\n",
      "done repeat 13\n",
      "done repeat 14\n",
      "done repeat 15\n",
      "done repeat 16\n",
      "done repeat 17\n",
      "done repeat 18\n",
      "done repeat 19\n",
      "done\n",
      "done repeat 0\n",
      "done repeat 1\n",
      "done repeat 2\n",
      "done repeat 3\n",
      "done repeat 4\n",
      "done repeat 5\n",
      "done repeat 6\n",
      "done repeat 7\n",
      "done repeat 8\n",
      "done repeat 9\n",
      "done repeat 10\n",
      "done repeat 11\n",
      "done repeat 12\n",
      "done repeat 13\n",
      "done repeat 14\n",
      "done repeat 15\n",
      "done repeat 16\n",
      "done repeat 17\n",
      "done repeat 18\n",
      "done repeat 19\n",
      "done\n"
     ]
    }
   ],
   "source": [
    "testNum=20\n",
    "EpisodeNum=500\n",
    "EpisodeLen=100\n",
    "\n",
    "\n",
    "reward_tally_alloption=run_many_experiments(env_path,options_full,testNum,EpisodeNum,EpisodeLen)\n",
    "print('done')\n",
    "\n",
    "reward_tally_2option=run_many_experiments(env_path,options_full[:6],EpisodeLen=EpisodeLen,EpisodeNum=EpisodeNum,testNum=testNum)\n",
    "print('done')\n",
    "\n",
    "#reward_tally_8option=run_many_experiments(env_path,options_full[:8],EpisodeLen=EpisodeLen,EpisodeNum=EpisodeNum,testNum=testNum)\n",
    "#print('done')\n",
    "\n",
    "reward_tally_premi=run_many_experiments(env_path,premi_options,EpisodeLen=EpisodeLen,EpisodeNum=EpisodeNum,testNum=testNum)\n",
    "print('done')\n"
   ]
  },
  {
   "cell_type": "code",
   "execution_count": null,
   "metadata": {},
   "outputs": [],
   "source": []
  },
  {
   "cell_type": "code",
   "execution_count": 852,
   "metadata": {
    "scrolled": true
   },
   "outputs": [
    {
     "name": "stdout",
     "output_type": "stream",
     "text": [
      "done repeat 0\n",
      "done repeat 1\n",
      "done repeat 2\n",
      "done repeat 3\n",
      "done repeat 4\n",
      "done repeat 5\n",
      "done repeat 6\n",
      "done repeat 7\n",
      "done repeat 8\n",
      "done repeat 9\n",
      "done repeat 10\n",
      "done repeat 11\n",
      "done repeat 12\n",
      "done repeat 13\n",
      "done repeat 14\n",
      "done repeat 15\n",
      "done repeat 16\n",
      "done repeat 17\n"
     ]
    },
    {
     "ename": "KeyboardInterrupt",
     "evalue": "",
     "output_type": "error",
     "traceback": [
      "\u001b[0;31m---------------------------------------------------------------------------\u001b[0m",
      "\u001b[0;31mKeyboardInterrupt\u001b[0m                         Traceback (most recent call last)",
      "\u001b[0;32m<ipython-input-852-700e727a80f8>\u001b[0m in \u001b[0;36m<module>\u001b[0;34m\u001b[0m\n\u001b[0;32m----> 1\u001b[0;31m \u001b[0mreward_tally_4option\u001b[0m\u001b[0;34m=\u001b[0m\u001b[0mrun_many_experiments\u001b[0m\u001b[0;34m(\u001b[0m\u001b[0menv_path\u001b[0m\u001b[0;34m,\u001b[0m\u001b[0moptions_full\u001b[0m\u001b[0;34m[\u001b[0m\u001b[0;34m:\u001b[0m\u001b[0;36m8\u001b[0m\u001b[0;34m]\u001b[0m\u001b[0;34m,\u001b[0m\u001b[0mEpisodeLen\u001b[0m\u001b[0;34m=\u001b[0m\u001b[0mEpisodeLen\u001b[0m\u001b[0;34m,\u001b[0m\u001b[0mEpisodeNum\u001b[0m\u001b[0;34m=\u001b[0m\u001b[0;36m100\u001b[0m\u001b[0;34m,\u001b[0m\u001b[0mtestNum\u001b[0m\u001b[0;34m=\u001b[0m\u001b[0mtestNum\u001b[0m\u001b[0;34m)\u001b[0m\u001b[0;34m\u001b[0m\u001b[0;34m\u001b[0m\u001b[0m\n\u001b[0m\u001b[1;32m      2\u001b[0m \u001b[0mprint\u001b[0m\u001b[0;34m(\u001b[0m\u001b[0;34m'done'\u001b[0m\u001b[0;34m)\u001b[0m\u001b[0;34m\u001b[0m\u001b[0;34m\u001b[0m\u001b[0m\n",
      "\u001b[0;32m<ipython-input-848-cc06467d71e1>\u001b[0m in \u001b[0;36mrun_many_experiments\u001b[0;34m(env_path, options, testNum, EpisodeNum, EpisodeLen)\u001b[0m\n\u001b[1;32m      2\u001b[0m     \u001b[0mreward_tally_alloption\u001b[0m\u001b[0;34m=\u001b[0m\u001b[0;36m0\u001b[0m\u001b[0;34m\u001b[0m\u001b[0;34m\u001b[0m\u001b[0m\n\u001b[1;32m      3\u001b[0m     \u001b[0;32mfor\u001b[0m \u001b[0mrepeat\u001b[0m \u001b[0;32min\u001b[0m \u001b[0mrange\u001b[0m\u001b[0;34m(\u001b[0m\u001b[0mtestNum\u001b[0m\u001b[0;34m)\u001b[0m\u001b[0;34m:\u001b[0m\u001b[0;34m\u001b[0m\u001b[0;34m\u001b[0m\u001b[0m\n\u001b[0;32m----> 4\u001b[0;31m         \u001b[0mreward_tally_alloption_\u001b[0m\u001b[0;34m,\u001b[0m\u001b[0mnstep_tally_alloption\u001b[0m\u001b[0;34m=\u001b[0m\u001b[0mrun_one_experiment\u001b[0m\u001b[0;34m(\u001b[0m\u001b[0menv_path\u001b[0m\u001b[0;34m,\u001b[0m\u001b[0moptions\u001b[0m\u001b[0;34m,\u001b[0m\u001b[0mEpisodeLen\u001b[0m\u001b[0;34m=\u001b[0m\u001b[0mEpisodeLen\u001b[0m\u001b[0;34m,\u001b[0m\u001b[0mEpisodeNum\u001b[0m\u001b[0;34m=\u001b[0m\u001b[0mEpisodeNum\u001b[0m\u001b[0;34m,\u001b[0m\u001b[0mtestNum\u001b[0m\u001b[0;34m=\u001b[0m\u001b[0mtestNum\u001b[0m\u001b[0;34m)\u001b[0m\u001b[0;34m\u001b[0m\u001b[0;34m\u001b[0m\u001b[0m\n\u001b[0m\u001b[1;32m      5\u001b[0m         \u001b[0mprint\u001b[0m\u001b[0;34m(\u001b[0m\u001b[0;34m'done repeat'\u001b[0m\u001b[0;34m,\u001b[0m\u001b[0mrepeat\u001b[0m\u001b[0;34m)\u001b[0m\u001b[0;34m\u001b[0m\u001b[0;34m\u001b[0m\u001b[0m\n\u001b[1;32m      6\u001b[0m         \u001b[0mreward_tally_alloption\u001b[0m\u001b[0;34m+=\u001b[0m\u001b[0mreward_tally_alloption_\u001b[0m\u001b[0;34m\u001b[0m\u001b[0;34m\u001b[0m\u001b[0m\n",
      "\u001b[0;32m<ipython-input-851-479b8f7b73a3>\u001b[0m in \u001b[0;36mrun_one_experiment\u001b[0;34m(env_path, options, EpisodeLen, EpisodeNum, testNum)\u001b[0m\n\u001b[1;32m     17\u001b[0m         \u001b[0m_\u001b[0m\u001b[0;34m,\u001b[0m\u001b[0m_2\u001b[0m\u001b[0;34m=\u001b[0m\u001b[0magent\u001b[0m\u001b[0;34m.\u001b[0m\u001b[0mrun_episode\u001b[0m\u001b[0;34m(\u001b[0m\u001b[0menv\u001b[0m\u001b[0;34m,\u001b[0m\u001b[0mmax_stepnum\u001b[0m\u001b[0;34m=\u001b[0m\u001b[0mEpisodeLen\u001b[0m\u001b[0;34m,\u001b[0m\u001b[0mstart_new\u001b[0m\u001b[0;34m=\u001b[0m\u001b[0;32mFalse\u001b[0m\u001b[0;34m,\u001b[0m\u001b[0mlearning_flag\u001b[0m\u001b[0;34m=\u001b[0m\u001b[0;32mTrue\u001b[0m\u001b[0;34m,\u001b[0m\u001b[0mverbose\u001b[0m\u001b[0;34m=\u001b[0m\u001b[0;32mFalse\u001b[0m\u001b[0;34m)\u001b[0m\u001b[0;34m\u001b[0m\u001b[0;34m\u001b[0m\u001b[0m\n\u001b[1;32m     18\u001b[0m         \u001b[0;32mfor\u001b[0m \u001b[0mt\u001b[0m \u001b[0;32min\u001b[0m \u001b[0mrange\u001b[0m\u001b[0;34m(\u001b[0m\u001b[0mtestNum\u001b[0m\u001b[0;34m)\u001b[0m\u001b[0;34m:\u001b[0m\u001b[0;34m\u001b[0m\u001b[0;34m\u001b[0m\u001b[0m\n\u001b[0;32m---> 19\u001b[0;31m             \u001b[0mn_steps\u001b[0m\u001b[0;34m,\u001b[0m\u001b[0mcumulative_reward\u001b[0m\u001b[0;34m=\u001b[0m\u001b[0magent\u001b[0m\u001b[0;34m.\u001b[0m\u001b[0mrun_episode\u001b[0m\u001b[0;34m(\u001b[0m\u001b[0menv\u001b[0m\u001b[0;34m,\u001b[0m\u001b[0mmax_stepnum\u001b[0m\u001b[0;34m=\u001b[0m\u001b[0mEpisodeLen\u001b[0m\u001b[0;34m,\u001b[0m\u001b[0mstart_new\u001b[0m\u001b[0;34m=\u001b[0m\u001b[0;32mFalse\u001b[0m\u001b[0;34m,\u001b[0m\u001b[0mlearning_flag\u001b[0m\u001b[0;34m=\u001b[0m\u001b[0;32mFalse\u001b[0m\u001b[0;34m,\u001b[0m\u001b[0mverbose\u001b[0m\u001b[0;34m=\u001b[0m\u001b[0;32mFalse\u001b[0m\u001b[0;34m)\u001b[0m\u001b[0;34m\u001b[0m\u001b[0;34m\u001b[0m\u001b[0m\n\u001b[0m\u001b[1;32m     20\u001b[0m             \u001b[0mn_steps_all\u001b[0m\u001b[0;34m[\u001b[0m\u001b[0mt\u001b[0m\u001b[0;34m,\u001b[0m\u001b[0me\u001b[0m\u001b[0;34m]\u001b[0m\u001b[0;34m=\u001b[0m\u001b[0mn_steps\u001b[0m\u001b[0;34m\u001b[0m\u001b[0;34m\u001b[0m\u001b[0m\n\u001b[1;32m     21\u001b[0m             \u001b[0mcumulative_reward_all\u001b[0m\u001b[0;34m[\u001b[0m\u001b[0mt\u001b[0m\u001b[0;34m,\u001b[0m\u001b[0me\u001b[0m\u001b[0;34m]\u001b[0m\u001b[0;34m=\u001b[0m\u001b[0mcumulative_reward\u001b[0m\u001b[0;34m\u001b[0m\u001b[0;34m\u001b[0m\u001b[0m\n",
      "\u001b[0;32m~/Documents/Second-Year/Bandit_RL/Hiearchical/Project/options-master/LearningOption.py\u001b[0m in \u001b[0;36mrun_episode\u001b[0;34m(self, env, max_stepnum, interruption, verbose, start_new, learning_flag)\u001b[0m\n\u001b[1;32m    120\u001b[0m             \u001b[0;32mif\u001b[0m \u001b[0;32mnot\u001b[0m \u001b[0mlearning_flag\u001b[0m\u001b[0;34m:\u001b[0m\u001b[0;34m\u001b[0m\u001b[0;34m\u001b[0m\u001b[0m\n\u001b[1;32m    121\u001b[0m                 \u001b[0;34m'print interrupt'\u001b[0m\u001b[0;34m\u001b[0m\u001b[0;34m\u001b[0m\u001b[0m\n\u001b[0;32m--> 122\u001b[0;31m                 \u001b[0maction\u001b[0m \u001b[0;34m=\u001b[0m \u001b[0mself\u001b[0m\u001b[0;34m.\u001b[0m\u001b[0mepsilonGreedyPolicy_Interruption\u001b[0m\u001b[0;34m(\u001b[0m\u001b[0mstate\u001b[0m\u001b[0;34m,\u001b[0m\u001b[0mepsilon\u001b[0m\u001b[0;34m=\u001b[0m\u001b[0mepsilon\u001b[0m\u001b[0;34m)\u001b[0m\u001b[0;34m\u001b[0m\u001b[0;34m\u001b[0m\u001b[0m\n\u001b[0m\u001b[1;32m    123\u001b[0m             \u001b[0;32melse\u001b[0m\u001b[0;34m:\u001b[0m\u001b[0;34m\u001b[0m\u001b[0;34m\u001b[0m\u001b[0m\n\u001b[1;32m    124\u001b[0m \u001b[0;34m\u001b[0m\u001b[0m\n",
      "\u001b[0;32m~/Documents/Second-Year/Bandit_RL/Hiearchical/Project/options-master/LearningOption.py\u001b[0m in \u001b[0;36mepsilonGreedyPolicy_Interruption\u001b[0;34m(self, state, epsilon)\u001b[0m\n\u001b[1;32m     80\u001b[0m     \u001b[0;32mdef\u001b[0m \u001b[0mepsilonGreedyPolicy_Interruption\u001b[0m\u001b[0;34m(\u001b[0m\u001b[0mself\u001b[0m\u001b[0;34m,\u001b[0m \u001b[0mstate\u001b[0m\u001b[0;34m,\u001b[0m \u001b[0mepsilon\u001b[0m\u001b[0;34m=\u001b[0m\u001b[0;36m0.1\u001b[0m\u001b[0;34m)\u001b[0m\u001b[0;34m:\u001b[0m\u001b[0;34m\u001b[0m\u001b[0;34m\u001b[0m\u001b[0m\n\u001b[1;32m     81\u001b[0m \u001b[0;34m\u001b[0m\u001b[0m\n\u001b[0;32m---> 82\u001b[0;31m         \u001b[0mself\u001b[0m\u001b[0;34m.\u001b[0m\u001b[0m_pickNewOptionEpsilonGreedily\u001b[0m\u001b[0;34m(\u001b[0m\u001b[0mstate\u001b[0m\u001b[0;34m,\u001b[0m \u001b[0mepsilon\u001b[0m\u001b[0;34m)\u001b[0m\u001b[0;34m\u001b[0m\u001b[0;34m\u001b[0m\u001b[0m\n\u001b[0m\u001b[1;32m     83\u001b[0m         \u001b[0maction\u001b[0m\u001b[0;34m,\u001b[0m \u001b[0maction_number\u001b[0m \u001b[0;34m=\u001b[0m \u001b[0mself\u001b[0m\u001b[0;34m.\u001b[0m\u001b[0mcurrent_option\u001b[0m\u001b[0;34m.\u001b[0m\u001b[0mpickAction\u001b[0m\u001b[0;34m(\u001b[0m\u001b[0mstate\u001b[0m\u001b[0;34m)\u001b[0m\u001b[0;34m\u001b[0m\u001b[0;34m\u001b[0m\u001b[0m\n\u001b[1;32m     84\u001b[0m         \u001b[0;31m# Record action number corresponding to last action taken\u001b[0m\u001b[0;34m\u001b[0m\u001b[0;34m\u001b[0m\u001b[0;34m\u001b[0m\u001b[0m\n",
      "\u001b[0;32m~/Documents/Second-Year/Bandit_RL/Hiearchical/Project/options-master/LearningOption.py\u001b[0m in \u001b[0;36m_pickNewOptionEpsilonGreedily\u001b[0;34m(self, state, epsilon)\u001b[0m\n\u001b[1;32m     28\u001b[0m         \u001b[0ms\u001b[0m \u001b[0;34m=\u001b[0m \u001b[0mstate\u001b[0m\u001b[0;34m\u001b[0m\u001b[0;34m\u001b[0m\u001b[0m\n\u001b[1;32m     29\u001b[0m         \u001b[0;32mfor\u001b[0m \u001b[0mi\u001b[0m \u001b[0;32min\u001b[0m \u001b[0mrange\u001b[0m\u001b[0;34m(\u001b[0m\u001b[0mlen\u001b[0m\u001b[0;34m(\u001b[0m\u001b[0mself\u001b[0m\u001b[0;34m.\u001b[0m\u001b[0moptions\u001b[0m\u001b[0;34m)\u001b[0m\u001b[0;34m)\u001b[0m\u001b[0;34m:\u001b[0m\u001b[0;34m\u001b[0m\u001b[0;34m\u001b[0m\u001b[0m\n\u001b[0;32m---> 30\u001b[0;31m             \u001b[0;32mif\u001b[0m \u001b[0mself\u001b[0m\u001b[0;34m.\u001b[0m\u001b[0moptions\u001b[0m\u001b[0;34m[\u001b[0m\u001b[0mi\u001b[0m\u001b[0;34m]\u001b[0m\u001b[0;34m.\u001b[0m\u001b[0mI\u001b[0m\u001b[0;34m[\u001b[0m\u001b[0ms\u001b[0m\u001b[0;34m]\u001b[0m \u001b[0;34m==\u001b[0m \u001b[0;36m1\u001b[0m\u001b[0;34m:\u001b[0m\u001b[0;34m\u001b[0m\u001b[0;34m\u001b[0m\u001b[0m\n\u001b[0m\u001b[1;32m     31\u001b[0m                 \u001b[0mavailable_options\u001b[0m\u001b[0;34m.\u001b[0m\u001b[0mappend\u001b[0m\u001b[0;34m(\u001b[0m\u001b[0mself\u001b[0m\u001b[0;34m.\u001b[0m\u001b[0moptions\u001b[0m\u001b[0;34m[\u001b[0m\u001b[0mi\u001b[0m\u001b[0;34m]\u001b[0m\u001b[0;34m)\u001b[0m\u001b[0;34m\u001b[0m\u001b[0;34m\u001b[0m\u001b[0m\n\u001b[1;32m     32\u001b[0m                 \u001b[0mavailable_options_idx\u001b[0m\u001b[0;34m.\u001b[0m\u001b[0mappend\u001b[0m\u001b[0;34m(\u001b[0m\u001b[0mi\u001b[0m\u001b[0;34m)\u001b[0m\u001b[0;34m\u001b[0m\u001b[0;34m\u001b[0m\u001b[0m\n",
      "\u001b[0;31mKeyboardInterrupt\u001b[0m: "
     ]
    }
   ],
   "source": [
    "reward_tally_4option=run_many_experiments(env_path,options_full[:8],EpisodeLen=EpisodeLen,EpisodeNum=100,testNum=1)\n",
    "print('done')"
   ]
  },
  {
   "cell_type": "code",
   "execution_count": null,
   "metadata": {},
   "outputs": [],
   "source": []
  },
  {
   "cell_type": "code",
   "execution_count": null,
   "metadata": {},
   "outputs": [],
   "source": []
  },
  {
   "cell_type": "code",
   "execution_count": 846,
   "metadata": {},
   "outputs": [
    {
     "data": {
      "text/plain": [
       "Text(0.5, 1.0, 'SMDP intra-option Q-Learning \\n 4-room Environment')"
      ]
     },
     "execution_count": 846,
     "metadata": {},
     "output_type": "execute_result"
    },
    {
     "data": {
      "image/png": "[encoded data removed]",
      "text/plain": [
       "<Figure size 432x288 with 1 Axes>"
      ]
     },
     "metadata": {
      "needs_background": "light"
     },
     "output_type": "display_data"
    }
   ],
   "source": [
    "fig,axe=plt.subplots(1,1)\n",
    "mean1=np.mean(reward_tally_alloption,0)\n",
    "std1=np.std(reward_tally_alloption,0,ddof=1)\n",
    "plt.plot(mean1,label='8 options')\n",
    "plt.fill_between(np.arange(EpisodeNum),mean1-std1,mean1+std1,color='C0',alpha=0.3)\n",
    "\n",
    "mean2=np.mean(reward_tally_2option,0)\n",
    "std2=np.std(reward_tally_2option,0,ddof=1)\n",
    "plt.plot(mean2,std2,label='2 options')\n",
    "plt.fill_between(np.arange(EpisodeNum),mean2-std2,mean2+std2,color='C1',alpha=0.3)\n",
    "\n",
    "mean3=np.mean(reward_tally_4option,0)\n",
    "std3=np.std(reward_tally_4option,0,ddof=1)\n",
    "plt.plot(mean3,label='4 options')\n",
    "plt.fill_between(np.arange(EpisodeNum),mean3-std3,mean3+std3,color='C2',alpha=0.3)\n",
    "\n",
    "mean4=np.mean(reward_tally_premi,0)\n",
    "std4=np.std(reward_tally_premi,0,ddof=1)\n",
    "plt.plot(mean4,label='prem')\n",
    "plt.fill_between(np.arange(EpisodeNum),mean4-std4,mean4+std4,color='C3',alpha=0.3)\n",
    "\n",
    "mean5=np.mean(reward_tally_eig2,0)\n",
    "std5=np.std(reward_tally_eig2,0,ddof=1)\n",
    "plt.plot(mean5,label='eig 2 options')\n",
    "plt.fill_between(np.arange(EpisodeNum),mean5-std5,mean5+std5,color='C4',alpha=0.3)\n",
    "\n",
    "mean5=np.mean(reward_tally_eig4,0)\n",
    "std5=np.std(reward_tally_eig4,0,ddof=1)\n",
    "plt.plot(mean5,label='eig 4 options')\n",
    "plt.fill_between(np.arange(EpisodeNum),mean5-std5,mean5+std5,color='C5',alpha=0.3)\n",
    "\n",
    "mean6=np.mean(reward_tally_eig64,0)\n",
    "std6=np.std(reward_tally_eig64,0,ddof=1)\n",
    "plt.plot(mean6,label='eig 64')\n",
    "plt.fill_between(np.arange(EpisodeNum),mean6-std6,mean6+std6,color='C6',alpha=0.3)\n",
    "\n",
    "axe.legend(loc='upper center', bbox_to_anchor=(0.3, 0.8))\n",
    "axe.set_ylabel('Average Return',fontsize=15)\n",
    "axe.set_xlabel('Episode',fontsize=15)\n",
    "axe.set_title('SMDP intra-option Q-Learning \\n 4-room Environment',fontsize=15)"
   ]
  },
  {
   "cell_type": "code",
   "execution_count": 862,
   "metadata": {},
   "outputs": [
    {
     "name": "stdout",
     "output_type": "stream",
     "text": [
      "115\n",
      "interrupt\n",
      "interrupt\n",
      "interrupt\n",
      "interrupt\n",
      "interrupt\n",
      "interrupt\n",
      "interrupt\n",
      "interrupt\n",
      "interrupt\n",
      "interrupt\n",
      "interrupt\n",
      "interrupt\n",
      "interrupt\n",
      "interrupt\n",
      "interrupt\n",
      "interrupt\n",
      "interrupt\n",
      "interrupt\n",
      "interrupt\n",
      "interrupt\n",
      "interrupt\n",
      "interrupt\n",
      "interrupt\n",
      "interrupt\n",
      "interrupt\n",
      "interrupt\n",
      "interrupt\n",
      "interrupt\n",
      "interrupt\n",
      "interrupt\n",
      "interrupt\n",
      "interrupt\n",
      "interrupt\n",
      "interrupt\n",
      "interrupt\n",
      "interrupt\n",
      "interrupt\n",
      "interrupt\n",
      "interrupt\n",
      "interrupt\n",
      "interrupt\n",
      "interrupt\n",
      "interrupt\n",
      "interrupt\n",
      "interrupt\n",
      "interrupt\n",
      "interrupt\n",
      "interrupt\n",
      "interrupt\n",
      "interrupt\n",
      "interrupt\n",
      "interrupt\n",
      "interrupt\n",
      "interrupt\n",
      "interrupt\n",
      "interrupt\n",
      "interrupt\n",
      "interrupt\n",
      "interrupt\n",
      "interrupt\n",
      "interrupt\n",
      "interrupt\n",
      "interrupt\n",
      "interrupt\n",
      "interrupt\n",
      "interrupt\n",
      "interrupt\n",
      "interrupt\n",
      "interrupt\n",
      "interrupt\n",
      "interrupt\n",
      "interrupt\n",
      "interrupt\n",
      "interrupt\n",
      "interrupt\n",
      "interrupt\n",
      "interrupt\n",
      "interrupt\n",
      "interrupt\n",
      "interrupt\n",
      "interrupt\n",
      "interrupt\n",
      "interrupt\n",
      "interrupt\n",
      "interrupt\n",
      "interrupt\n",
      "interrupt\n",
      "interrupt\n",
      "interrupt\n",
      "interrupt\n",
      "interrupt\n",
      "interrupt\n",
      "interrupt\n",
      "interrupt\n",
      "interrupt\n",
      "interrupt\n",
      "interrupt\n",
      "interrupt\n",
      "interrupt\n",
      "interrupt\n",
      "interrupt\n"
     ]
    }
   ],
   "source": [
    "agent=IntraOptionQLearningAgent(options_full[:6])\n",
    "\n",
    "goal_idx=env._getStateIndex(1,12) #goal is upper right\n",
    "\n",
    "env.defineRewardFunction(None)\n",
    "env.defineGoalState(goal_idx)\n",
    "start_idx=env._getStateIndex(12,1) #start is lower left\n",
    "env.defineStartState(start_idx)\n",
    "    \n",
    "n_steps,cumulative_reward=agent.run_episode(env,max_stepnum=EpisodeLen,start_new=True,learning_flag=False,verbose=False)\n"
   ]
  },
  {
   "cell_type": "code",
   "execution_count": null,
   "metadata": {},
   "outputs": [],
   "source": []
  },
  {
   "cell_type": "code",
   "execution_count": 849,
   "metadata": {},
   "outputs": [
    {
     "name": "stdout",
     "output_type": "stream",
     "text": [
      "done repeat 0\n",
      "done repeat 1\n",
      "done repeat 2\n",
      "done repeat 3\n",
      "done repeat 4\n",
      "done repeat 5\n",
      "done repeat 6\n",
      "done repeat 7\n",
      "done repeat 8\n",
      "done repeat 9\n",
      "done repeat 10\n",
      "done repeat 11\n",
      "done repeat 12\n",
      "done repeat 13\n",
      "done repeat 14\n",
      "done repeat 15\n",
      "done repeat 16\n",
      "done repeat 17\n",
      "done repeat 18\n",
      "done repeat 19\n",
      "done\n"
     ]
    }
   ],
   "source": [
    "reward_tally_4option_test=run_many_experiments(env_path,options_full[:8],EpisodeLen=EpisodeLen,EpisodeNum=EpisodeNum,testNum=testNum)\n",
    "print('done')"
   ]
  },
  {
   "cell_type": "code",
   "execution_count": 853,
   "metadata": {},
   "outputs": [
    {
     "data": {
      "text/plain": [
       "[<matplotlib.lines.Line2D at 0x7fd4c9efa1d0>]"
      ]
     },
     "execution_count": 853,
     "metadata": {},
     "output_type": "execute_result"
    },
    {
     "data": {
      "image/png": "[encoded data removed]",
      "text/plain": [
       "<Figure size 432x288 with 1 Axes>"
      ]
     },
     "metadata": {
      "needs_background": "light"
     },
     "output_type": "display_data"
    }
   ],
   "source": [
    "plt.plot(np.mean(reward_tally_4option_test,0))"
   ]
  },
  {
   "cell_type": "markdown",
   "metadata": {},
   "source": [
    "## Learn options by eigenvalues"
   ]
  },
  {
   "cell_type": "code",
   "execution_count": 642,
   "metadata": {},
   "outputs": [],
   "source": [
    "from PR_options import findEigenReward\n",
    "eigenvectors=findEigenReward(env_path)"
   ]
  },
  {
   "cell_type": "code",
   "execution_count": 697,
   "metadata": {},
   "outputs": [
    {
     "data": {
      "text/plain": [
       "0.007007104103525598"
      ]
     },
     "execution_count": 697,
     "metadata": {},
     "output_type": "execute_result"
    }
   ],
   "source": [
    "np.linalg.norm(eigenvectors[:,-2])"
   ]
  },
  {
   "cell_type": "code",
   "execution_count": 703,
   "metadata": {},
   "outputs": [
    {
     "data": {
      "text/plain": [
       "<matplotlib.image.AxesImage at 0x7fd51b743510>"
      ]
     },
     "execution_count": 703,
     "metadata": {},
     "output_type": "execute_result"
    },
    {
     "data": {
      "image/png": "[encoded data removed]",
      "text/plain": [
       "<Figure size 432x288 with 1 Axes>"
      ]
     },
     "metadata": {
      "needs_background": "light"
     },
     "output_type": "display_data"
    }
   ],
   "source": [
    "plt.imshow(eigenvectors[:,-2].reshape((env.numRows,env.numCols))/np.linalg.norm(eigenvectors[:,-2]))"
   ]
  },
  {
   "cell_type": "code",
   "execution_count": 834,
   "metadata": {},
   "outputs": [],
   "source": [
    "def learnOptionEigen(env_path,pseudoreward):\n",
    "    env = GridWorld(path = env_path, useNegativeRewards=False)\n",
    "    numStates=env.numStates\n",
    "    env.defineRewardFunction(pseudoreward)\n",
    "    indeces=findNoWallState(env)\n",
    "    \n",
    "    subgoal_idx=np.argmax(pseudoreward)\n",
    "    I=np.zeros(numStates)\n",
    "    I[indeces]=1\n",
    "    I[goal_idx]=0\n",
    "\n",
    "    polIter = Learning(0.9, env, augmentActionSet=True)\n",
    "    V, pi = polIter.solvePolicyIteration_subsetStates(np.argwhere(I).ravel(),theta=0.001)\n",
    "    pi=pi[:numStates]\n",
    "    \n",
    "    beta=np.zeros(numStates)+1\n",
    "    beta[indeces]=0\n",
    "    beta[pi==4]=1\n",
    "    \n",
    "    current_option=Option(str(subgoal_idx))\n",
    "    current_option.setIBetaPi(I,beta,pi)\n",
    "    \n",
    "    return current_option"
   ]
  },
  {
   "cell_type": "code",
   "execution_count": 805,
   "metadata": {},
   "outputs": [
    {
     "name": "stdout",
     "output_type": "stream",
     "text": [
      "103\n"
     ]
    }
   ],
   "source": [
    "pseudoreward=eigenvectors[:,-2]/np.linalg.norm(eigenvectors[:,-2])\n",
    "subgoal_idx=np.argmax(pseudoreward)\n",
    "I=np.zeros(numStates)\n",
    "I[indeces]=1\n",
    "I[goal_idx]=0\n",
    "beta=np.zeros(numStates)\n",
    "beta[goal_idx]=1\n",
    "    \n",
    "env = GridWorld(path = env_path, useNegativeRewards=False)\n",
    "env.defineRewardFunction(pseudoreward)\n",
    "polIter = Learning(0.9, env, augmentActionSet=True)\n",
    "V, pi = polIter.solvePolicyIteration_subsetStates(np.argwhere(I).ravel(),theta=0.001)"
   ]
  },
  {
   "cell_type": "code",
   "execution_count": 806,
   "metadata": {},
   "outputs": [
    {
     "data": {
      "text/plain": [
       "<matplotlib.colorbar.Colorbar at 0x7fd53d741750>"
      ]
     },
     "execution_count": 806,
     "metadata": {},
     "output_type": "execute_result"
    },
    {
     "data": {
      "image/png": "[encoded data removed]",
      "text/plain": [
       "<Figure size 432x288 with 2 Axes>"
      ]
     },
     "metadata": {
      "needs_background": "light"
     },
     "output_type": "display_data"
    }
   ],
   "source": [
    "plt.imshow(pi[:169].reshape(13,13))\n",
    "plt.colorbar()"
   ]
  },
  {
   "cell_type": "code",
   "execution_count": 755,
   "metadata": {},
   "outputs": [
    {
     "data": {
      "text/plain": [
       "<matplotlib.colorbar.Colorbar at 0x7fd52a586650>"
      ]
     },
     "execution_count": 755,
     "metadata": {},
     "output_type": "execute_result"
    },
    {
     "data": {
      "image/png": "[encoded data removed]",
      "text/plain": [
       "<Figure size 432x288 with 2 Axes>"
      ]
     },
     "metadata": {
      "needs_background": "light"
     },
     "output_type": "display_data"
    }
   ],
   "source": [
    "plt.imshow(pseudoreward.reshape(13,13)-np.min(pseudoreward))\n",
    "plt.colorbar()"
   ]
  },
  {
   "cell_type": "code",
   "execution_count": 838,
   "metadata": {},
   "outputs": [
    {
     "data": {
      "text/plain": [
       "<matplotlib.colorbar.Colorbar at 0x7fd4805daad0>"
      ]
     },
     "execution_count": 838,
     "metadata": {},
     "output_type": "execute_result"
    },
    {
     "data": {
      "image/png": "[encoded data removed]",
      "text/plain": [
       "<Figure size 432x288 with 2 Axes>"
      ]
     },
     "metadata": {
      "needs_background": "light"
     },
     "output_type": "display_data"
    }
   ],
   "source": [
    "plt.imshow(options_eig_full[4].beta.reshape(13,13))\n",
    "plt.colorbar()"
   ]
  },
  {
   "cell_type": "code",
   "execution_count": 837,
   "metadata": {},
   "outputs": [
    {
     "data": {
      "text/plain": [
       "<matplotlib.colorbar.Colorbar at 0x7fd4eb78b310>"
      ]
     },
     "execution_count": 837,
     "metadata": {},
     "output_type": "execute_result"
    },
    {
     "data": {
      "image/png": "[encoded data removed]",
      "text/plain": [
       "<Figure size 432x288 with 2 Axes>"
      ]
     },
     "metadata": {
      "needs_background": "light"
     },
     "output_type": "display_data"
    }
   ],
   "source": [
    "plt.imshow(options_full[4].beta.reshape(13,13))\n",
    "plt.colorbar()"
   ]
  },
  {
   "cell_type": "code",
   "execution_count": 739,
   "metadata": {},
   "outputs": [
    {
     "data": {
      "text/plain": [
       "<matplotlib.colorbar.Colorbar at 0x7fd4d9dfa410>"
      ]
     },
     "execution_count": 739,
     "metadata": {},
     "output_type": "execute_result"
    },
    {
     "data": {
      "image/png": "[encoded data removed]",
      "text/plain": [
       "<Figure size 432x288 with 2 Axes>"
      ]
     },
     "metadata": {
      "needs_background": "light"
     },
     "output_type": "display_data"
    }
   ],
   "source": [
    "plt.imshow(V[:169].reshape(13,13))\n",
    "plt.colorbar()"
   ]
  },
  {
   "cell_type": "code",
   "execution_count": 835,
   "metadata": {
    "scrolled": true
   },
   "outputs": [
    {
     "name": "stdout",
     "output_type": "stream",
     "text": [
      "103\n",
      "103\n",
      "103\n",
      "103\n",
      "103\n",
      "103\n",
      "103\n",
      "103\n",
      "103\n",
      "103\n",
      "103\n",
      "103\n",
      "103\n",
      "103\n",
      "103\n",
      "103\n",
      "103\n",
      "103\n",
      "103\n",
      "103\n",
      "103\n",
      "103\n",
      "103\n",
      "103\n",
      "103\n",
      "103\n",
      "103\n",
      "103\n",
      "103\n",
      "103\n",
      "103\n",
      "103\n",
      "103\n",
      "103\n",
      "103\n",
      "103\n",
      "103\n",
      "103\n",
      "103\n",
      "103\n",
      "103\n",
      "103\n",
      "103\n",
      "103\n",
      "103\n",
      "103\n",
      "103\n",
      "103\n",
      "103\n",
      "103\n",
      "103\n",
      "103\n",
      "103\n",
      "103\n",
      "103\n",
      "103\n",
      "103\n",
      "103\n",
      "103\n",
      "103\n",
      "103\n",
      "103\n",
      "103\n",
      "103\n",
      "103\n",
      "103\n",
      "103\n",
      "103\n",
      "103\n",
      "103\n",
      "103\n",
      "103\n",
      "103\n",
      "103\n",
      "103\n",
      "103\n",
      "103\n",
      "103\n",
      "103\n",
      "103\n",
      "103\n",
      "103\n",
      "103\n",
      "103\n",
      "103\n",
      "103\n",
      "103\n",
      "103\n",
      "103\n",
      "103\n",
      "103\n",
      "103\n",
      "103\n",
      "103\n",
      "103\n",
      "103\n",
      "103\n",
      "103\n",
      "103\n",
      "103\n",
      "103\n",
      "103\n",
      "103\n",
      "103\n",
      "103\n",
      "103\n",
      "103\n",
      "103\n",
      "103\n",
      "103\n",
      "103\n",
      "103\n",
      "103\n",
      "103\n",
      "103\n",
      "103\n",
      "103\n",
      "103\n",
      "103\n",
      "103\n",
      "103\n",
      "103\n",
      "103\n",
      "103\n",
      "103\n",
      "103\n",
      "103\n",
      "103\n"
     ]
    }
   ],
   "source": [
    "# learn policy\n",
    "simulate_num=64\n",
    "options_eig=[]\n",
    "numStates=env_plot.numStates\n",
    "for simulate_idx in range(simulate_num):\n",
    "    pseudoreward=eigenvectors[:,-simulate_idx]/np.linalg.norm(eigenvectors[:,-simulate_idx])\n",
    "    \n",
    "    current_option=learnOptionEigen(env_path,pseudoreward)\n",
    "    options_eig.append(current_option)\n",
    "    \n",
    "    current_option=learnOptionEigen(env_path,-pseudoreward)\n",
    "    options_eig.append(current_option)"
   ]
  },
  {
   "cell_type": "code",
   "execution_count": 842,
   "metadata": {},
   "outputs": [
    {
     "name": "stdout",
     "output_type": "stream",
     "text": [
      "128\n"
     ]
    }
   ],
   "source": [
    "options_eig_full=premi_options+options_eig[4:]\n",
    "print(len(options_eig_full))"
   ]
  },
  {
   "cell_type": "code",
   "execution_count": 845,
   "metadata": {},
   "outputs": [
    {
     "name": "stdout",
     "output_type": "stream",
     "text": [
      "done repeat 0\n",
      "done repeat 1\n",
      "done repeat 2\n",
      "done repeat 3\n",
      "done repeat 4\n",
      "done repeat 5\n",
      "done repeat 6\n",
      "done repeat 7\n",
      "done repeat 8\n",
      "done repeat 9\n",
      "done repeat 10\n",
      "done repeat 11\n",
      "done repeat 12\n",
      "done repeat 13\n",
      "done repeat 14\n",
      "done repeat 15\n",
      "done repeat 16\n",
      "done repeat 17\n",
      "done repeat 18\n",
      "done repeat 19\n",
      "done\n",
      "done repeat 0\n",
      "done repeat 1\n",
      "done repeat 2\n",
      "done repeat 3\n",
      "done repeat 4\n",
      "done repeat 5\n",
      "done repeat 6\n",
      "done repeat 7\n",
      "done repeat 8\n",
      "done repeat 9\n",
      "done repeat 10\n",
      "done repeat 11\n",
      "done repeat 12\n",
      "done repeat 13\n",
      "done repeat 14\n",
      "done repeat 15\n",
      "done repeat 16\n",
      "done repeat 17\n",
      "done repeat 18\n",
      "done repeat 19\n",
      "done\n",
      "done repeat 0\n",
      "done repeat 1\n",
      "done repeat 2\n",
      "done repeat 3\n",
      "done repeat 4\n",
      "done repeat 5\n",
      "done repeat 6\n",
      "done repeat 7\n",
      "done repeat 8\n",
      "done repeat 9\n",
      "done repeat 10\n",
      "done repeat 11\n",
      "done repeat 12\n",
      "done repeat 13\n",
      "done repeat 14\n",
      "done repeat 15\n",
      "done repeat 16\n",
      "done repeat 17\n",
      "done repeat 18\n",
      "done repeat 19\n",
      "done\n",
      "done repeat 0\n",
      "done repeat 1\n",
      "done repeat 2\n",
      "done repeat 3\n",
      "done repeat 4\n",
      "done repeat 5\n",
      "done repeat 6\n",
      "done repeat 7\n",
      "done repeat 8\n",
      "done repeat 9\n",
      "done repeat 10\n",
      "done repeat 11\n",
      "done repeat 12\n",
      "done repeat 13\n",
      "done repeat 14\n",
      "done repeat 15\n",
      "done repeat 16\n",
      "done repeat 17\n",
      "done repeat 18\n",
      "done repeat 19\n",
      "done\n"
     ]
    }
   ],
   "source": [
    "reward_tally_eig2=run_many_experiments(env_path,options_eig_full[:(4+2)],testNum,EpisodeNum,EpisodeLen)\n",
    "print('done')\n",
    "reward_tally_eig4=run_many_experiments(env_path,options_eig_full[:8],testNum,EpisodeNum,EpisodeLen)\n",
    "print('done')\n",
    "reward_tally_eig64=run_many_experiments(env_path,options_eig_full[:(4+64)],testNum,EpisodeNum,EpisodeLen)\n",
    "print('done')\n",
    "reward_tally_eig128=run_many_experiments(env_path,options_eig_full[:(4+128)],testNum,EpisodeNum,EpisodeLen)\n",
    "print('done')"
   ]
  },
  {
   "cell_type": "code",
   "execution_count": null,
   "metadata": {},
   "outputs": [],
   "source": []
  },
  {
   "cell_type": "code",
   "execution_count": null,
   "metadata": {},
   "outputs": [],
   "source": []
  }
 ],
 "metadata": {
  "kernelspec": {
   "display_name": "Python 3.5.6 64-bit ('cs231n': conda)",
   "language": "python",
   "name": "python35664bitcs231ncondad60f519ef6434fd3924338e2ec440992"
  },
  "language_info": {
   "codemirror_mode": {
    "name": "ipython",
    "version": 3
   },
   "file_extension": ".py",
   "mimetype": "text/x-python",
   "name": "python",
   "nbconvert_exporter": "python",
   "pygments_lexer": "ipython3",
   "version": "3.7.7"
  }
 },
 "nbformat": 4,
 "nbformat_minor": 4
}
